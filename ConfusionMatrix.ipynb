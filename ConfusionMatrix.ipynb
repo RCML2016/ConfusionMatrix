{
  "nbformat": 4,
  "nbformat_minor": 0,
  "metadata": {
    "colab": {
      "name": "ConfusionMatrix.ipynb",
      "provenance": [],
      "authorship_tag": "ABX9TyNHecVen6Q3zG2h2M3iZh8Q",
      "include_colab_link": true
    },
    "kernelspec": {
      "name": "python3",
      "display_name": "Python 3"
    }
  },
  "cells": [
    {
      "cell_type": "markdown",
      "metadata": {
        "id": "view-in-github",
        "colab_type": "text"
      },
      "source": [
        "<a href=\"https://colab.research.google.com/github/RCML2016/ConfusionMatrix/blob/master/ConfusionMatrix.ipynb\" target=\"_parent\"><img src=\"https://colab.research.google.com/assets/colab-badge.svg\" alt=\"Open In Colab\"/></a>"
      ]
    },
    {
      "cell_type": "code",
      "metadata": {
        "id": "hd2WUQrynGvP",
        "colab_type": "code",
        "colab": {
          "base_uri": "https://localhost:8080/",
          "height": 243
        },
        "outputId": "a3d31a3a-5c11-48da-d7a3-c30fdcafa97f"
      },
      "source": [
        "import pandas as pd\n",
        "data={'Y_Actual':[1,0,0,1,0,1,0,0,1,0,1,0],\n",
        "      'Y_Predicted':[1,1,0,1,0,1,0,1,0,0,0,0]}\n",
        "df=pd.DataFrame(data,columns=['Y_Actual','Y_Predicted'])\n",
        "print (df)"
      ],
      "execution_count": 16,
      "outputs": [
        {
          "output_type": "stream",
          "text": [
            "    Y_Actual  Y_Predicted\n",
            "0          1            1\n",
            "1          0            1\n",
            "2          0            0\n",
            "3          1            1\n",
            "4          0            0\n",
            "5          1            1\n",
            "6          0            0\n",
            "7          0            1\n",
            "8          1            0\n",
            "9          0            0\n",
            "10         1            0\n",
            "11         0            0\n"
          ],
          "name": "stdout"
        }
      ]
    },
    {
      "cell_type": "code",
      "metadata": {
        "id": "9h1Mwl9woXzP",
        "colab_type": "code",
        "colab": {
          "base_uri": "https://localhost:8080/",
          "height": 370
        },
        "outputId": "67209b3b-da6c-4429-9c01-2c7bb1ca8b0e"
      },
      "source": [
        "#Create a confusion Matrix with Pandas CrossTab and #adding Margins as Total\n",
        "\n",
        "Conf_Matrix=pd.crosstab(df['Y_Actual'],df['Y_Predicted'],rownames=['Actual'],colnames=['Predicted'],margins=True)\n",
        "print (Conf_Matrix)\n",
        "\n",
        "#Create a HeatMap with Seabron for the confusion matrix\n",
        "import seaborn as sn\n",
        "sn.heatmap(Conf_Matrix,annot=True)\n",
        "\n",
        "#Create a HeatMap with Seabron for the confusion matrix\n",
        "import matplotlib.pyplot as plt\n",
        "plt.show()\n"
      ],
      "execution_count": 17,
      "outputs": [
        {
          "output_type": "stream",
          "text": [
            "Predicted  0  1  All\n",
            "Actual              \n",
            "0          5  2    7\n",
            "1          2  3    5\n",
            "All        7  5   12\n"
          ],
          "name": "stdout"
        },
        {
          "output_type": "display_data",
          "data": {
            "image/png": "[encoded data removed]",
            "text/plain": [
              "<Figure size 432x288 with 2 Axes>"
            ]
          },
          "metadata": {
            "tags": [],
            "needs_background": "light"
          }
        }
      ]
    },
    {
      "cell_type": "code",
      "metadata": {
        "id": "kY2LJ_SC4ZRs",
        "colab_type": "code",
        "colab": {}
      },
      "source": [
        "df['Y_Actual'] = df['Y_Actual'].map({'Yes': 1, 'No': 0})\n",
        "df['Y_Predicted'] = df['Y_Predicted'].map({'Yes': 1, 'No': 0})"
      ],
      "execution_count": 23,
      "outputs": []
    },
    {
      "cell_type": "code",
      "metadata": {
        "id": "6TW2p_xg4poZ",
        "colab_type": "code",
        "colab": {
          "base_uri": "https://localhost:8080/",
          "height": 374
        },
        "outputId": "9fbb3fe8-9989-4db7-a747-3ba71d355547"
      },
      "source": [
        "import pandas as pd\n",
        "from pandas_ml import ConfusionMatrix\n",
        "\n",
        "data = {'Y_Actual':    ['Yes', 'No',  'No', 'Yes', 'No', 'Yes', 'No',  'No', 'Yes', 'No', 'Yes', 'No'],\n",
        "        'Y_Predicted': ['Yes', 'Yes', 'No', 'Yes', 'No', 'Yes', 'Yes', 'No', 'Yes', 'No', 'No',  'No']    \n",
        "        }\n",
        "\n",
        "df = pd.DataFrame(data, columns=['Y_Actual','Y_Predicted'])\n",
        "df['Y_Actual'] = df['Y_Actual'].map({'Yes': 1, 'No': 0})\n",
        "df['y_Predicted'] = df['Y_Predicted'].map({'Yes': 1, 'No': 0})\n",
        "\n",
        "Confusion_Matrix = ConfusionMatrix(df['Y_Actual'], df['Y_Predicted'])\n",
        "Confusion_Matrix.print_stats()"
      ],
      "execution_count": 25,
      "outputs": [
        {
          "output_type": "error",
          "ename": "ModuleNotFoundError",
          "evalue": "ignored",
          "traceback": [
            "\u001b[0;31m---------------------------------------------------------------------------\u001b[0m",
            "\u001b[0;31mModuleNotFoundError\u001b[0m                       Traceback (most recent call last)",
            "\u001b[0;32m<ipython-input-25-ad588da75b17>\u001b[0m in \u001b[0;36m<module>\u001b[0;34m()\u001b[0m\n\u001b[1;32m      1\u001b[0m \u001b[0;32mimport\u001b[0m \u001b[0mpandas\u001b[0m \u001b[0;32mas\u001b[0m \u001b[0mpd\u001b[0m\u001b[0;34m\u001b[0m\u001b[0;34m\u001b[0m\u001b[0m\n\u001b[0;32m----> 2\u001b[0;31m \u001b[0;32mfrom\u001b[0m \u001b[0mpandas_ml\u001b[0m \u001b[0;32mimport\u001b[0m \u001b[0mConfusionMatrix\u001b[0m\u001b[0;34m\u001b[0m\u001b[0;34m\u001b[0m\u001b[0m\n\u001b[0m\u001b[1;32m      3\u001b[0m \u001b[0;34m\u001b[0m\u001b[0m\n\u001b[1;32m      4\u001b[0m data = {'Y_Actual':    ['Yes', 'No',  'No', 'Yes', 'No', 'Yes', 'No',  'No', 'Yes', 'No', 'Yes', 'No'],\n\u001b[1;32m      5\u001b[0m         \u001b[0;34m'Y_Predicted'\u001b[0m\u001b[0;34m:\u001b[0m \u001b[0;34m[\u001b[0m\u001b[0;34m'Yes'\u001b[0m\u001b[0;34m,\u001b[0m \u001b[0;34m'Yes'\u001b[0m\u001b[0;34m,\u001b[0m \u001b[0;34m'No'\u001b[0m\u001b[0;34m,\u001b[0m \u001b[0;34m'Yes'\u001b[0m\u001b[0;34m,\u001b[0m \u001b[0;34m'No'\u001b[0m\u001b[0;34m,\u001b[0m \u001b[0;34m'Yes'\u001b[0m\u001b[0;34m,\u001b[0m \u001b[0;34m'Yes'\u001b[0m\u001b[0;34m,\u001b[0m \u001b[0;34m'No'\u001b[0m\u001b[0;34m,\u001b[0m \u001b[0;34m'Yes'\u001b[0m\u001b[0;34m,\u001b[0m \u001b[0;34m'No'\u001b[0m\u001b[0;34m,\u001b[0m \u001b[0;34m'No'\u001b[0m\u001b[0;34m,\u001b[0m  \u001b[0;34m'No'\u001b[0m\u001b[0;34m]\u001b[0m\u001b[0;34m\u001b[0m\u001b[0;34m\u001b[0m\u001b[0m\n",
            "\u001b[0;31mModuleNotFoundError\u001b[0m: No module named 'pandas_ml'",
            "",
            "\u001b[0;31m---------------------------------------------------------------------------\u001b[0;32m\nNOTE: If your import is failing due to a missing package, you can\nmanually install dependencies using either !pip or !apt.\n\nTo view examples of installing some common dependencies, click the\n\"Open Examples\" button below.\n\u001b[0;31m---------------------------------------------------------------------------\u001b[0m\n"
          ]
        }
      ]
    },
    {
      "cell_type": "code",
      "metadata": {
        "id": "2rzfflSCuANP",
        "colab_type": "code",
        "colab": {
          "base_uri": "https://localhost:8080/",
          "height": 131
        },
        "outputId": "1cd81134-37d7-4c2b-c7c8-e24ea7cce82d"
      },
      "source": [
        "pip install pandas_ml\n",
        "\n",
        "Confusion_Matrix=Conf_Matrix(df['Y_Actual'],df['Y_Predicted'])\n",
        "Confusion_Matrix.print_stats()\n"
      ],
      "execution_count": 19,
      "outputs": [
        {
          "output_type": "error",
          "ename": "SyntaxError",
          "evalue": "ignored",
          "traceback": [
            "\u001b[0;36m  File \u001b[0;32m\"<ipython-input-19-6ab0a2c7ee93>\"\u001b[0;36m, line \u001b[0;32m1\u001b[0m\n\u001b[0;31m    pip install pandas_ml\u001b[0m\n\u001b[0m              ^\u001b[0m\n\u001b[0;31mSyntaxError\u001b[0m\u001b[0;31m:\u001b[0m invalid syntax\n"
          ]
        }
      ]
    },
    {
      "cell_type": "code",
      "metadata": {
        "id": "Hdl_H7Hb3nCF",
        "colab_type": "code",
        "colab": {
          "base_uri": "https://localhost:8080/",
          "height": 131
        },
        "outputId": "baf2cfb2-decc-4988-c797-4b61c614dd70"
      },
      "source": [
        "pip install pandas_ml\n",
        "import pandas as pd\n",
        "from pandas_ml import ConfusionMatrix\n",
        "\n",
        "data = {'y_Actual':    [1, 0, 0, 1, 0, 1, 0, 0, 1, 0, 1, 0],\n",
        "        'y_Predicted': [1, 1, 0, 1, 0, 1, 1, 0, 1, 0, 0, 0]\n",
        "        }\n",
        "\n",
        "df = pd.DataFrame(data, columns=['y_Actual','y_Predicted'])\n",
        "Confusion_Matrix = ConfusionMatrix(df['y_Actual'], df['y_Predicted'])\n",
        "Confusion_Matrix.print_stats()"
      ],
      "execution_count": 21,
      "outputs": [
        {
          "output_type": "error",
          "ename": "SyntaxError",
          "evalue": "ignored",
          "traceback": [
            "\u001b[0;36m  File \u001b[0;32m\"<ipython-input-21-8fc4bf8b33d9>\"\u001b[0;36m, line \u001b[0;32m1\u001b[0m\n\u001b[0;31m    pip install pandas_ml\u001b[0m\n\u001b[0m              ^\u001b[0m\n\u001b[0;31mSyntaxError\u001b[0m\u001b[0;31m:\u001b[0m invalid syntax\n"
          ]
        }
      ]
    },
    {
      "cell_type": "code",
      "metadata": {
        "id": "gE2mOeWo4O3e",
        "colab_type": "code",
        "colab": {}
      },
      "source": [
        ""
      ],
      "execution_count": null,
      "outputs": []
    }
  ]
}